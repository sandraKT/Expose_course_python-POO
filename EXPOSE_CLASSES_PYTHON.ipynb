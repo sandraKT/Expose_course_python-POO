{
 "cells": [
  {
   "cell_type": "markdown",
   "metadata": {},
   "source": [
    "****\n",
    "\n",
    "# <center> <b> <span style=\"color:blue;\"> Programmation en Python   </span> </b></center>\n",
    "\n",
    "\n",
    "****\n",
    "\n",
    "# <center> <b> <span style=\"color:orange;\">  Exposé : Classes et Programmation Orientée Objet (POO)  </span> </b></center>\n",
    "\n",
    "\n",
    "****\n",
    "\n",
    "## <b> <span style=\"color:blue;\">Exposants : </span> </b>\n",
    "\n",
    "> - Albert Ntumba Nkongolo\n",
    "> \n",
    "> - Lionel Nanguep Komen\n",
    ">\n",
    "> - Sandra Kam Tsemo\n",
    ">\n",
    "> - Seynabou Ndour\n",
    "\n",
    "\n",
    "****\n",
    "\n",
    "## <center> <b> <span style=\"color:blue;\">Introduction </span> </b></center>\n",
    "\n",
    "\n",
    "\n",
    "> **En bref :**  La programmation orientée objet est le paradigme ou modèle qui nous permet de définir nos propres types d’objets, avec leurs propriétés et opérations. Ce concept vient avec de nombreux concepts qui seront explicités le long de cet exposé. \n",
    "\n",
    "\n",
    " \n",
    "****"
   ]
  },
  {
   "cell_type": "markdown",
   "metadata": {},
   "source": [
    "###  <b> <span style=\"color:blue;\">Pourquoi le besoin de l'orienté objet ?  </span> </b>"
   ]
  },
  {
   "cell_type": "markdown",
   "metadata": {},
   "source": [
    "    Dès qu’un programme grossit, une structuration en classes est envisagée, voilà un des intérêts de la POO, ici on voit \n",
    "    une fédération des objets qui collaborent, on découpe le programme qui pouvait être long en petis morceaux.\n",
    "    \n",
    "    L'élement principal dans cette section est l'objet, qui est à son tour une instance de classe.\n",
    "    \n",
    "  "
   ]
  },
  {
   "cell_type": "markdown",
   "metadata": {},
   "source": [
    "###  <b> <span style=\"color:blue;\">Concepts de base de la POO </span> </b>"
   ]
  },
  {
   "cell_type": "markdown",
   "metadata": {},
   "source": [
    "### <center> <b> <span style=\"color:orange;\">1. Les Classes </span> </b></center>"
   ]
  },
  {
   "cell_type": "markdown",
   "metadata": {},
   "source": [
    "    C'est un ensemble d'objet ayant les mêmes caractéristiques (c'est-à-dire c'est un nouveau type de données).\n",
    "    \n",
    "    Définition d'une classe sur python.\n",
    "    \n",
    "    Exemple : \n",
    "\n"
   ]
  },
  {
   "cell_type": "code",
   "execution_count": 1,
   "metadata": {},
   "outputs": [],
   "source": [
    "class ExposePOO:\n",
    "    pass"
   ]
  },
  {
   "cell_type": "markdown",
   "metadata": {},
   "source": [
    "### <center> <b> <span style=\"color:orange;\">2. Attribut et Méthode d'une classe </span> </b></center>"
   ]
  },
  {
   "cell_type": "markdown",
   "metadata": {},
   "source": [
    "           Pour faire simple, l'attribut représente le champ ou les variables d'une classe. \n",
    "            \n",
    "            Une méthode s'écrit comme une fonction du corps de la classe avec un premier paramètre self obligatoire, où self représente l'objet sur lequel la méthode sera appliquée. Autrement dit self est la référence d'instance.\n",
    "    \n",
    "    Une fonction définie au sein d'une classe est appelée méthode. Pour exécuter une méthode à l'extérieur de la classe, la syntaxe générale est instance.méthode().\n",
    "    \n",
    "    \n",
    "    Exemple : "
   ]
  },
  {
   "cell_type": "code",
   "execution_count": 2,
   "metadata": {},
   "outputs": [
    {
     "name": "stdout",
     "output_type": "stream",
     "text": [
      "28\n",
      "42\n"
     ]
    }
   ],
   "source": [
    "class C: # x et y : attributs de classe\n",
    "    x = 23\n",
    "    y= x + 5\n",
    "\n",
    "    def affiche(self): # méthode affiche()\n",
    "            self.z = 42 # attribut d'instance\n",
    "            print(C.y) # dans une méthode, on qualifie un attribut de classe,\n",
    "            print(self.z) #, mais pas un attribut d'instance\n",
    "obj = C()\n",
    "obj.affiche()"
   ]
  },
  {
   "cell_type": "markdown",
   "metadata": {},
   "source": [
    "### <center> <b> <span style=\"color:orange;\">3. Types de méthodes </span> </b></center>\n"
   ]
  },
  {
   "cell_type": "markdown",
   "metadata": {},
   "source": [
    "###  <b> <span style=\"color:noire;\">Le constructeur </span> </b>"
   ]
  },
  {
   "cell_type": "markdown",
   "metadata": {},
   "source": [
    "    Lors de l'instanciation d'un objet, la structure de base de l'objet est créée en mémoire, et la méthode init est \n",
    "    automatiquement appelée pour initialiser l'objet. C'est typiquement dans cette méthode spéciale que sont créés les attributs d'instance avec leur valeur initiale.\n",
    "\n",
    "    Lors de l'instanciation d'un objet à partir d'une classe, il peut être intéressant de lancer des instructions comme par exemple initialiser certaines variables. Pour cela, on ajoute une méthode spéciale nommée .init()\n",
    "    \n",
    "    \n",
    "    Exemple : "
   ]
  },
  {
   "cell_type": "code",
   "execution_count": 3,
   "metadata": {},
   "outputs": [
    {
     "data": {
      "text/plain": [
       "42"
      ]
     },
     "execution_count": 3,
     "metadata": {},
     "output_type": "execute_result"
    }
   ],
   "source": [
    "class C:\n",
    "    \n",
    "    def __init__(self, n):\n",
    "        self.x = n # initialisation de l'attribut d'instance x\n",
    "\n",
    "une_instance = C(42) # paramètre obligatoire, affecté à n\n",
    "une_instance.x"
   ]
  },
  {
   "cell_type": "markdown",
   "metadata": {},
   "source": [
    "###  <b> <span style=\"color:noire;\"> Get et Set </span> </b>"
   ]
  },
  {
   "cell_type": "markdown",
   "metadata": {},
   "source": [
    "    Dans un langage objet ou à objet, la methode *get* sert le plus souvent à récupérer la valeur d'une variable contenue \n",
    "    dans la classe de la methode.\n",
    "    \n",
    "    La méthode *set* quant-à-elle sert à affecter une valeur à une variable contenue dans la classe.\n",
    "    \n",
    "    \n",
    "    Exemple : "
   ]
  },
  {
   "cell_type": "code",
   "execution_count": 4,
   "metadata": {},
   "outputs": [],
   "source": [
    "class Celsius(object):\n",
    "    \n",
    "    def __init__(self, value=0.0):\n",
    "        self.__value = float(value)\n",
    "        \n",
    "    def __get__(self, instance,value):\n",
    "        return self.value\n",
    "    \n",
    "    def __set__(self, instance, value):\n",
    "        self.value = float(value)\n",
    "\n",
    "\n",
    "class Temperature(object):\n",
    "    celsius = Celsius()"
   ]
  },
  {
   "cell_type": "code",
   "execution_count": 5,
   "metadata": {},
   "outputs": [
    {
     "data": {
      "text/plain": [
       "0.0"
      ]
     },
     "execution_count": 5,
     "metadata": {},
     "output_type": "execute_result"
    }
   ],
   "source": [
    "temp=Temperature()\n",
    "temp.celsius #calls celsius.__get__"
   ]
  },
  {
   "cell_type": "markdown",
   "metadata": {},
   "source": [
    "###  <b> <span style=\"color:noire;\"> Surcharge </span> </b>"
   ]
  },
  {
   "cell_type": "markdown",
   "metadata": {},
   "source": [
    "    La surcharge permet à un opérateur de posséder un sens différent suivant le type de ses opérandes.\n",
    "    \n",
    "    NB:Pour surcharger l'opérateur +, nous devrons implémenter la fonction __add __ () dans la classe.\n",
    "    \n",
    "    Exemple : \n",
    "    \n",
    "    "
   ]
  },
  {
   "cell_type": "code",
   "execution_count": 6,
   "metadata": {},
   "outputs": [
    {
     "name": "stdout",
     "output_type": "stream",
     "text": [
      "(7,5)\n"
     ]
    }
   ],
   "source": [
    "class Point:\n",
    "    def __init__(self, x, y):\n",
    "        self.x = x\n",
    "        self.y = y\n",
    "     \n",
    "    def __str__(self):\n",
    "        return \"({0},{1})\".format(self.x, self.y)\n",
    " \n",
    "    def __add__(self, p):\n",
    "        a = self.x + p.x\n",
    "        b = self.y + p.y\n",
    "        return Point(a, b)\n",
    " \n",
    " \n",
    "p1 = Point(2, 4)\n",
    "p2 = Point(5, 1)\n",
    " \n",
    "p3 = p1+p2\n",
    "print(p3)\n"
   ]
  },
  {
   "cell_type": "markdown",
   "metadata": {},
   "source": [
    "###  <b> <span style=\"color:noire;\"> Héritage </span> </b>"
   ]
  },
  {
   "cell_type": "markdown",
   "metadata": {},
   "source": [
    "     Nous entendons par héritage, le fait qu'une sous-classe hérite des attributs et méthodes d'une superclasse(classe mère) pour éviter des répetitions de code.\n",
    "     \n",
    "     Exemples :"
   ]
  },
  {
   "cell_type": "code",
   "execution_count": 7,
   "metadata": {},
   "outputs": [
    {
     "data": {
      "text/plain": [
       "2"
      ]
     },
     "execution_count": 7,
     "metadata": {},
     "output_type": "execute_result"
    }
   ],
   "source": [
    "# Exemple 1\n",
    "\n",
    "class Quadrupede:\n",
    "    def piedsAuContactDuSol(self):\n",
    "        return 4\n",
    "\n",
    "class QuadrupedeDebout(Quadrupede):\n",
    "    def piedsAuContactDuSol(self):\n",
    "        return 2\n",
    "\n",
    "chat = Quadrupede()\n",
    "chat.piedsAuContactDuSol()\n",
    "\n",
    "homme = QuadrupedeDebout()\n",
    "homme.piedsAuContactDuSol()"
   ]
  },
  {
   "cell_type": "code",
   "execution_count": 8,
   "metadata": {},
   "outputs": [],
   "source": [
    "# Exemple 2\n",
    "\n",
    "class Voiture:\n",
    "    roues = 4\n",
    "    moteur = 1\n",
    "\n",
    "    def __init__(self):\n",
    "        self.nom = \"A déterminer\"\n",
    "\n",
    "class VoitureSport(Voiture):\n",
    "\n",
    "    def __init__(self):\n",
    "        self.nom = \"Ferrari\""
   ]
  },
  {
   "cell_type": "markdown",
   "metadata": {},
   "source": [
    "    On a ainsi indiqué que VoitureSport a hérité de classe Voiture, elle recupère donc toutes ses méthodes et ses attributs.\n"
   ]
  },
  {
   "cell_type": "markdown",
   "metadata": {},
   "source": [
    "###  <b> <span style=\"color:noire;\"> Polymorphisme </span> </b>"
   ]
  },
  {
   "cell_type": "markdown",
   "metadata": {},
   "source": [
    "    C'est le fait de definir deux ou plusieurs méthodes de même noms mais de paramèttre différents dans une même classe. Si une sous classe reécrit la même méthode de la super Class alors c'est un polymorphisme.\n",
    "        \n",
    "    Exemple :"
   ]
  },
  {
   "cell_type": "code",
   "execution_count": 9,
   "metadata": {},
   "outputs": [
    {
     "name": "stdout",
     "output_type": "stream",
     "text": [
      "La voiture démarre\n"
     ]
    }
   ],
   "source": [
    "# coding: utf-8\n",
    "\n",
    "class Voiture:\n",
    "\n",
    "    roues = 4\n",
    "    moteur = 1\n",
    "\n",
    "    def __init__(self):\n",
    "        self.nom = \"A déterminer\"\n",
    "        \n",
    "    def allumer(self):\n",
    "        print(\"La voiture démarre\")\n",
    "\n",
    "class VoitureSport(Voiture):\n",
    "\n",
    "    def __init__(self):\n",
    "        self.nom = \"Ferrari\"\n",
    "\n",
    "ma_voiture_sport = VoitureSport()\n",
    "ma_voiture_sport.allumer()"
   ]
  },
  {
   "cell_type": "markdown",
   "metadata": {},
   "source": [
    "###  <b> <span style=\"color:noire;\"> Encapsulation </span> </b>"
   ]
  },
  {
   "cell_type": "markdown",
   "metadata": {},
   "source": [
    "    L'encapsulation est une manière de définir une classe de telle sorte que ses attributs ne puisse pas être directement manipulés depuis l'extérieur, mais seulement indirectement par l'intermédiaire de ses méthodes.\n",
    "    Un des avantages de cette approche est la possiblité de redéfinir la représentation interne des attributs, sans que cela affecte la manipulation externe d'un objet de cette classe. Elle facilite donc la mise à jour des applications.\n",
    "    \n",
    "    Exemple :"
   ]
  },
  {
   "cell_type": "code",
   "execution_count": 10,
   "metadata": {},
   "outputs": [],
   "source": [
    "class Voiture :\n",
    "    def __init__(self, im):\n",
    "        self.__Compteur = 0\n",
    "        self.__Immat = im\n",
    "        \n",
    "    def ChangerPneu (self):\n",
    "        return (self.__Compteur >= 10000)    \n",
    "\n",
    "    def getCompteur(self):\n",
    "        return self.__Compteur\n",
    "    \n",
    "    def setCompteur (self, km):\n",
    "        self.__Compteur = km\n",
    "\n",
    "    def getImmat (self):\n",
    "        return self.__Immat\n",
    "    \n",
    "    def setImmat (self,im):\n",
    "        self.__Immat = im"
   ]
  },
  {
   "cell_type": "markdown",
   "metadata": {},
   "source": [
    "    On constate que :\n",
    "\n",
    "    Les attributs __Immat et __Compteur sont à présent privés, car leurs noms commencent par __.\n",
    "\n",
    "    La classe est donc encapsulée. Quatre nouvelles méthodes ont été rajoutées: getCompteur, setCompteur, getImmat et \n",
    "    setImmat. Ces méthodes publiques sont appelées des accesseurs car elles permettent d'accéder indirectement aux attributs privés depuis l'extérieur de la classe."
   ]
  },
  {
   "cell_type": "markdown",
   "metadata": {},
   "source": [
    "###  <b> <span style=\"color:noire;\"> Sous-classement  </span> </b>"
   ]
  },
  {
   "cell_type": "markdown",
   "metadata": {},
   "source": [
    "    Si vous voulez créer une classe qui se comporte essentiellement comme une autre classe, vous ne devez pas copier \n",
    "    le code. Il suffit de sous-classer et de modifier les éléments qui doivent l'être. Lorsque nous avons créé des classes, nous avons déjà sous-classé la classe \"objet\" intégrée à Python.\n",
    "\n",
    "    Par exemple, disons que vous voulez écrire une classe de matrice éparse, ce qui signifie que vous ne stockez pas explicitement les éléments zéro. Vous pouvez créer une sous-classe de la classe Matrix qui redéfinit les opérations \n",
    "    matricielles.\n"
   ]
  },
  {
   "cell_type": "markdown",
   "metadata": {},
   "source": [
    "    L'objet SparseMatrix est une matrice mais certaines méthodes sont définies dans la superclasse Matrix. Pour \n",
    "    s'en convaincre, il suffit de regarder le dir de l'objet SparseMatrix et de noter qu'il reçoit des attributs de Matrix.\n",
    "    \n",
    "    Exemple : "
   ]
  },
  {
   "cell_type": "code",
   "execution_count": 11,
   "metadata": {},
   "outputs": [
    {
     "name": "stdout",
     "output_type": "stream",
     "text": [
      "1 42 3\n"
     ]
    }
   ],
   "source": [
    "class A(object):\n",
    "    a = 1\n",
    "\n",
    "class B(A):\n",
    "    b = 2\n",
    "    \n",
    "class C(B):\n",
    "    b = 42\n",
    "    c = 3\n",
    "\n",
    "x = C()\n",
    "print (x.a, x.b, x.c)"
   ]
  },
  {
   "cell_type": "markdown",
   "metadata": {},
   "source": [
    "###  <b> <span style=\"color:noire;\"> Property  </span> </b>\n",
    "\n",
    "\n"
   ]
  },
  {
   "cell_type": "markdown",
   "metadata": {},
   "source": [
    "    Normalement, lorsque vous obtenez ou définissez des attributs sur un objet, la valeur que vous définissez reçoit simplement un nouveau nom. Cependant, il arrive parfois que l'on veuille faire quelque chose de plus en fonction de la valeur \n",
    "    réelle que l'on reçoit. Par exemple, vous devez peut-être confirmer que la valeur est correcte ou souhaitée.\n",
    "    \n",
    "\n",
    "    Python fournit un mécanisme appelé propriétés pour faire cela. Les propriétés sont des méthodes qui permettent \n",
    "    d'obtenir, de définir ou de supprimer un attribut donné. Pour mettre en œuvre ce mécanisme, utilisez le décorateur \n",
    "    intégré property() :\n",
    "    \n",
    "    \n",
    "    Exemple : \n"
   ]
  },
  {
   "cell_type": "code",
   "execution_count": 12,
   "metadata": {},
   "outputs": [],
   "source": [
    "class EvenNum(object):\n",
    "    def __init__(self, value):\n",
    "        self._value = 0\n",
    "        self.value = value\n",
    "\n",
    "    @property\n",
    "    def value(self):\n",
    "        # getter\n",
    "        return self._value\n",
    "\n",
    "    @value.setter\n",
    "    def value(self, val):\n",
    "        # setter\n",
    "        if val % 2 == 0:\n",
    "            self._value = val\n",
    "        else:\n",
    "            print (\"number not even\")   "
   ]
  },
  {
   "cell_type": "code",
   "execution_count": 13,
   "metadata": {},
   "outputs": [
    {
     "name": "stdout",
     "output_type": "stream",
     "text": [
      "42\n"
     ]
    }
   ],
   "source": [
    "en = EvenNum(42)\n",
    "print (en.value)"
   ]
  },
  {
   "cell_type": "code",
   "execution_count": 14,
   "metadata": {},
   "outputs": [
    {
     "name": "stdout",
     "output_type": "stream",
     "text": [
      "number not even\n",
      "42\n"
     ]
    }
   ],
   "source": [
    "en.value = 65\n",
    "print (en.value)"
   ]
  },
  {
   "cell_type": "code",
   "execution_count": 15,
   "metadata": {},
   "outputs": [
    {
     "name": "stdout",
     "output_type": "stream",
     "text": [
      "16\n"
     ]
    }
   ],
   "source": [
    "en.value = 16\n",
    "print (en.value)"
   ]
  },
  {
   "cell_type": "markdown",
   "metadata": {},
   "source": [
    "###  <b> <span style=\"color:noire;\"> Modèle de données </span> </b>\n"
   ]
  },
  {
   "cell_type": "markdown",
   "metadata": {},
   "source": [
    "    Les classes étant des types définis par l'utilisateur en Python, elles devraient interagir normalement avec \n",
    "    les opérateurs littéraux tels que + - * / == < > <= >= et d'autres constructions du langage Python. Cependant, Python ne sait pas comment effectuer ces opérations tant que l'utilisateur ne lui indique pas. Prenons l'exemple de EvenNum \n",
    "    ci-dessus :\n",
    "    \n",
    "    \n",
    "    x = EvenNum(42)\n",
    "    y = 65\n",
    "    x + y\n",
    "    \n",
    "      \n",
    "    Nous devons faire savoir à Python que l'addition EvenNum doit être une addition sur la valeur. Nous devons également lui faire savoir qu'il doit retourner un EvenNum s'il le peut.\n",
    "\n",
    "    Pour ce faire, nous devons implémenter une partie du modèle de données Python. Python dispose d'une liste de noms de méthodes spéciales - ou parfois connues comme magiques - que vous pouvez surcharger pour implémenter le support de nombreuses opérations du langage. Tous ces noms de méthodes commencent et se terminent par un double trait de soulignement __. Cela s'explique par le fait qu'aucune méthode habituelle n'utiliserait jamais un nom aussi obtus. Cela permet également à l'utilisateur et aux autres développeurs de savoir que quelque chose de spécial se passe dans ces méthodes et qu'elles ne sont pas destinées à être appelées directement. Beaucoup d'entre elles ont une interface prédéfinie qu'elles doivent suivre.\n",
    "\n",
    "    Nous en avons déjà vu un exemple avec la méthode du constructeur __init__(). Essayons maintenant de faire fonctionner l'addition pour EvenNum. D'après la documentation, il existe une méthode __add__() avec l'API suivante :\n",
    "\n",
    "    object.__add__(self, other)\n",
    "    \n",
    "    Exemple : "
   ]
  },
  {
   "cell_type": "code",
   "execution_count": 16,
   "metadata": {},
   "outputs": [],
   "source": [
    "class EvenNum(object):\n",
    "    def __init__(self, value):\n",
    "        self._value = 0\n",
    "        self.value = value\n",
    "\n",
    "    @property\n",
    "    def value(self):\n",
    "        # getter\n",
    "        return self._value\n",
    "\n",
    "    @value.setter\n",
    "    def value(self, val):\n",
    "        # setter\n",
    "        if val % 2 == 0:\n",
    "            self._value = val\n",
    "        else:\n",
    "            print (\"number not even\")  \n",
    "            \n",
    "    def __add__(self, other):\n",
    "        if isinstance(other, EvenNum):\n",
    "            newval = self.value + other.value\n",
    "        else:\n",
    "            newval = self.value + other\n",
    "        return EvenNum(newval)"
   ]
  },
  {
   "cell_type": "code",
   "execution_count": 17,
   "metadata": {},
   "outputs": [
    {
     "name": "stdout",
     "output_type": "stream",
     "text": [
      "number not even\n"
     ]
    },
    {
     "data": {
      "text/plain": [
       "<__main__.EvenNum at 0x19e249d34c8>"
      ]
     },
     "execution_count": 17,
     "metadata": {},
     "output_type": "execute_result"
    }
   ],
   "source": [
    "x = EvenNum(42)\n",
    "y = 65\n",
    "x + y"
   ]
  },
  {
   "cell_type": "markdown",
   "metadata": {},
   "source": [
    "---------------------------------------------------------------------------------------------------------------------------\n",
    "---------------------------------------------------------------------------------------------------------------------------\n",
    "\n",
    "    Enfin, la partie magique la plus importante des classes et des objets est l'attribut __dict__. C'est dans \n",
    "    ce dictionnaire que sont stockées toutes les méthodes et tous les attributs d'un objet. Modifier le __dict__ affecte  \n",
    "    directement l'objet et vice versa.\n",
    "    \n",
    "    N.B : les dictionnaires sont le conteneur le plus important en Python. En réalité, tous les types ne sont que des \n",
    "    dictionnaires.\n",
    "    \n",
    "    Exemple :\n",
    "--------------------------------------------------------------------------------------------------------------------------    \n",
    "---------------------------------------------------------------------------------------------------------------------------\n",
    "\n"
   ]
  },
  {
   "cell_type": "code",
   "execution_count": 18,
   "metadata": {},
   "outputs": [],
   "source": [
    "class A(object):\n",
    "    def __init__(self, a):\n",
    "        self.a = a\n",
    "\n",
    "avar = A(42)"
   ]
  },
  {
   "cell_type": "code",
   "execution_count": 19,
   "metadata": {},
   "outputs": [
    {
     "name": "stdout",
     "output_type": "stream",
     "text": [
      "{'a': 42}\n"
     ]
    }
   ],
   "source": [
    "print (avar.__dict__)"
   ]
  },
  {
   "cell_type": "code",
   "execution_count": 20,
   "metadata": {},
   "outputs": [
    {
     "name": "stdout",
     "output_type": "stream",
     "text": [
      "yourself\n"
     ]
    }
   ],
   "source": [
    "avar.__dict__['b'] = 'yourself'\n",
    "print (avar.b)"
   ]
  },
  {
   "cell_type": "code",
   "execution_count": 21,
   "metadata": {},
   "outputs": [
    {
     "name": "stdout",
     "output_type": "stream",
     "text": [
      "{'a': 42, 'b': 'yourself', 'c': 'me now'}\n"
     ]
    }
   ],
   "source": [
    "avar.c = \"me now\"\n",
    "print (avar.__dict__)"
   ]
  },
  {
   "cell_type": "markdown",
   "metadata": {},
   "source": [
    "<center> <b> <span style=\"color:orange;\"> FIN EXPOSE !!! THANK YOU FOR YOUR ATTENTION !!!   </span> </b></center>"
   ]
  }
 ],
 "metadata": {
  "kernelspec": {
   "display_name": "Python 3",
   "language": "python",
   "name": "python3"
  },
  "language_info": {
   "codemirror_mode": {
    "name": "ipython",
    "version": 3
   },
   "file_extension": ".py",
   "mimetype": "text/x-python",
   "name": "python",
   "nbconvert_exporter": "python",
   "pygments_lexer": "ipython3",
   "version": "3.7.3"
  }
 },
 "nbformat": 4,
 "nbformat_minor": 2
}
